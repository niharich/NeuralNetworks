{
  "nbformat": 4,
  "nbformat_minor": 0,
  "metadata": {
    "colab": {
      "provenance": [],
      "include_colab_link": true
    },
    "kernelspec": {
      "name": "python3",
      "display_name": "Python 3"
    },
    "language_info": {
      "name": "python"
    }
  },
  "cells": [
    {
      "cell_type": "markdown",
      "metadata": {
        "id": "view-in-github",
        "colab_type": "text"
      },
      "source": [
        "<a href=\"https://colab.research.google.com/github/niharich/NeuralNetworks/blob/main/assignment_ipnyb.ipynb\" target=\"_parent\"><img src=\"https://colab.research.google.com/assets/colab-badge.svg\" alt=\"Open In Colab\"/></a>"
      ]
    },
    {
      "cell_type": "markdown",
      "source": [
        "Implement Naïve Bayes method using scikit-learn library Use dataset available with name glass Use train_test_split to create training and testing part Evaluate the model on test part using score and classification_report(y_true, y_pred)"
      ],
      "metadata": {
        "id": "Y3TLWARIQCbi"
      }
    },
    {
      "cell_type": "code",
      "execution_count": null,
      "metadata": {
        "colab": {
          "base_uri": "https://localhost:8080/"
        },
        "id": "Jb4F4RXmP7L2",
        "outputId": "54934576-cd8e-4a43-9137-a57b44331aff"
      },
      "outputs": [
        {
          "output_type": "stream",
          "name": "stdout",
          "text": [
            "Accuracy: 0.37209302325581395\n",
            "Classification Report:\n",
            "              precision    recall  f1-score   support\n",
            "\n",
            "           1       0.19      0.44      0.27         9\n",
            "           2       0.33      0.16      0.21        19\n",
            "           3       0.33      0.20      0.25         5\n",
            "           5       0.00      0.00      0.00         2\n",
            "           6       0.67      1.00      0.80         2\n",
            "           7       1.00      1.00      1.00         6\n",
            "\n",
            "    accuracy                           0.37        43\n",
            "   macro avg       0.42      0.47      0.42        43\n",
            "weighted avg       0.40      0.37      0.36        43\n",
            "\n"
          ]
        }
      ],
      "source": [
        "import numpy as np\n",
        "import pandas as pd\n",
        "from sklearn.model_selection import train_test_split\n",
        "from sklearn.naive_bayes import GaussianNB\n",
        "from sklearn.metrics import classification_report\n",
        "\n",
        "# Loaded the dataset on Google colab and defined the path below\n",
        "dataset = pd.read_csv('/content/glass.csv')\n",
        "\n",
        "# Split the dataset into features (X) and target variable (y)\n",
        "X = dataset.iloc[:, :-1].values\n",
        "y = dataset.iloc[:, -1].values\n",
        "\n",
        "# Split the dataset into training and testing sets\n",
        "X_train, X_test, y_train, y_test = train_test_split(X, y, test_size=0.2, random_state=0)\n",
        "\n",
        "# Create a Naïve Bayes classifier and Train the classifier\n",
        "classifier = GaussianNB()\n",
        "classifier.fit(X_train, y_train)\n",
        "\n",
        "# Make predictions on the test set\n",
        "y_pred = classifier.predict(X_test)\n",
        "\n",
        "# Evaluate the model, Print the accuracy and classification report\n",
        "accuracy = classifier.score(X_test, y_test)\n",
        "classification_report = classification_report(y_test, y_pred)\n",
        "print(\"Accuracy:\", accuracy)\n",
        "print(\"Classification Report:\")\n",
        "print(classification_report)"
      ]
    },
    {
      "cell_type": "code",
      "source": [
        "import numpy as np\n",
        "import pandas as pd\n",
        "from sklearn.model_selection import train_test_split\n",
        "from sklearn.svm import SVC\n",
        "from sklearn.metrics import classification_report\n",
        "\n",
        "# Loaded the dataset on Google colab and defined the path below\n",
        "dataset = pd.read_csv('glass.csv')\n",
        "\n",
        "# Split the dataset into features (X) and target variable (y)\n",
        "X = dataset.iloc[:, :-1].values\n",
        "y = dataset.iloc[:, -1].values\n",
        "\n",
        "# Split the dataset into training and testing sets\n",
        "X_train, X_test, y_train, y_test = train_test_split(X, y, test_size=0.2, random_state=0)\n",
        "\n",
        "# Create a linear SVM classifier and Train the classifier\n",
        "classifier = SVC(kernel='linear')\n",
        "classifier.fit(X_train, y_train)\n",
        "\n",
        "# Make predictions on the test set\n",
        "y_pred = classifier.predict(X_test)\n",
        "\n",
        "# Evaluate the model, Print the accuracy and classification report\n",
        "print(len(y_pred))\n",
        "print(len(y_test))\n",
        "accuracy = classifier.score(X_test, y_test)\n",
        "classification_report = classification_report(y_test, y_pred, zero_division=1) # added zero_division to control the behavior when there are no predicted samples for a label\n",
        "print(\"Accuracy:\", accuracy)\n",
        "print(\"Classification Report:\")\n",
        "print(classification_report)\n"
      ],
      "metadata": {
        "colab": {
          "base_uri": "https://localhost:8080/"
        },
        "id": "_3yhPoBrSA0h",
        "outputId": "2cd13bea-ea76-4e33-c5b8-bf1a20e37f43"
      },
      "execution_count": null,
      "outputs": [
        {
          "output_type": "stream",
          "name": "stdout",
          "text": [
            "43\n",
            "43\n",
            "Accuracy: 0.5116279069767442\n",
            "Classification Report:\n",
            "              precision    recall  f1-score   support\n",
            "\n",
            "           1       0.36      0.89      0.52         9\n",
            "           2       0.58      0.37      0.45        19\n",
            "           3       1.00      0.00      0.00         5\n",
            "           5       0.50      0.50      0.50         2\n",
            "           6       1.00      0.00      0.00         2\n",
            "           7       0.86      1.00      0.92         6\n",
            "\n",
            "    accuracy                           0.51        43\n",
            "   macro avg       0.72      0.46      0.40        43\n",
            "weighted avg       0.64      0.51      0.46        43\n",
            "\n"
          ]
        }
      ]
    },
    {
      "cell_type": "markdown",
      "source": [
        "Based on the provided classification reports, the linear SVM algorithm achieved a higher accuracy of 0.511 compared to the Naïve Bayes algorithm with an accuracy of 0.37.\n",
        "\n",
        "Justification:\n",
        "\n",
        "When comparing the precision, recall, and F1-score values, the linear SVM model generally achieved higher values across most classes compared to the Naïve Bayes model. This indicates that the SVM model had better overall performance in terms of correctly identifying positive instances (precision) and achieving a balance between precision and recall (F1-score).\n",
        "\n",
        "Support: The SVM model also had a higher accuracy on the majority of the classes, as seen in the classification report. It correctly classified a larger number of instances for most classes compared to the Naïve Bayes model. This suggests that the SVM model's decision boundaries were better aligned with the true class labels in the dataset."
      ],
      "metadata": {
        "id": "GKSiaSXvTzm4"
      }
    },
    {
      "cell_type": "markdown",
      "source": [
        "3. Implement Linear Regression using scikit-learn\n",
        "a) Import the given “Salary_Data.csv”\n",
        "b) Split the data in train_test partitions, such that 1/3 of the data is reserved as test subset.\n",
        "c) Train and predict the model.\n",
        "d) Calculate the mean_squared error.\n",
        "e) Visualize both train and test data using scatter plot."
      ],
      "metadata": {
        "id": "Rb3_ZJCYyB9i"
      }
    },
    {
      "cell_type": "code",
      "source": [
        "import numpy as np\n",
        "import pandas as pd\n",
        "import matplotlib.pyplot as plt\n",
        "from sklearn.model_selection import train_test_split\n",
        "from sklearn.linear_model import LinearRegression\n",
        "from sklearn.metrics import mean_squared_error\n",
        "\n",
        "# Import the dataset to google colab and defined the path below\n",
        "dataset = pd.read_csv('/content/Salary_Data.csv')\n",
        "\n",
        "# Split the dataset into features (X) and target variable (y)\n",
        "X = dataset.iloc[:, :-1].values\n",
        "y = dataset.iloc[:, -1].values\n",
        "\n",
        "# Split the dataset into training and testing sets\n",
        "X_train, X_test, y_train, y_test = train_test_split(X, y, test_size=1/3, random_state=0)\n",
        "\n",
        "# Create a Linear Regression model and Train the model\n",
        "regressor = LinearRegression()\n",
        "regressor.fit(X_train, y_train)\n",
        "\n",
        "# Predict on the test set & Calculate the mean squared error\n",
        "y_pred = regressor.predict(X_test)\n",
        "mse = mean_squared_error(y_test, y_pred)\n",
        "print(\"Mean Squared Error:\", mse)\n",
        "\n",
        "# Visualize the training and test data\n",
        "plt.scatter(X_train, y_train, color='green', label='Training Data')\n",
        "plt.scatter(X_test, y_test, color='red', label='Test Data')\n",
        "plt.plot(X_train, regressor.predict(X_train), color='blue', label='Linear Regression')\n",
        "plt.title('Salary vs Experience')\n",
        "plt.xlabel('Years of Experience')\n",
        "plt.ylabel('Salary')\n",
        "plt.legend()\n",
        "plt.show()"
      ],
      "metadata": {
        "colab": {
          "base_uri": "https://localhost:8080/",
          "height": 489
        },
        "id": "vQHjf8YmyBXW",
        "outputId": "9f856633-7c4a-4cb8-d6c6-4f43cadd9ef0"
      },
      "execution_count": null,
      "outputs": [
        {
          "output_type": "stream",
          "name": "stdout",
          "text": [
            "Mean Squared Error: 21026037.329511296\n"
          ]
        },
        {
          "output_type": "display_data",
          "data": {
            "text/plain": [
              "<Figure size 640x480 with 1 Axes>"
            ],
            "image/png": "[encoded data removed]"
          },
          "metadata": {}
        }
      ]
    }
  ]
}